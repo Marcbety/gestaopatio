{
 "cells": [
  {
   "cell_type": "code",
   "execution_count": 4,
   "id": "e336ac9d-334e-4c23-8217-1e815cc8915a",
   "metadata": {},
   "outputs": [
    {
     "ename": "OperationalError",
     "evalue": "table grade has no column named Hora Agendada",
     "output_type": "error",
     "traceback": [
      "\u001b[1;31m---------------------------------------------------------------------------\u001b[0m",
      "\u001b[1;31mOperationalError\u001b[0m                          Traceback (most recent call last)",
      "Cell \u001b[1;32mIn[4], line 22\u001b[0m\n\u001b[0;32m     20\u001b[0m \u001b[38;5;28;01mfor\u001b[39;00m index, row \u001b[38;5;129;01min\u001b[39;00m df\u001b[38;5;241m.\u001b[39miterrows():\n\u001b[0;32m     21\u001b[0m     insert_query \u001b[38;5;241m=\u001b[39m \u001b[38;5;124mf\u001b[39m\u001b[38;5;124m\"\u001b[39m\u001b[38;5;124mINSERT INTO grade (\u001b[39m\u001b[38;5;132;01m{\u001b[39;00m\u001b[38;5;124m'\u001b[39m\u001b[38;5;124m, \u001b[39m\u001b[38;5;124m'\u001b[39m\u001b[38;5;241m.\u001b[39mjoin([\u001b[38;5;124mf\u001b[39m\u001b[38;5;124m'\u001b[39m\u001b[38;5;124m[\u001b[39m\u001b[38;5;132;01m{\u001b[39;00mcol\u001b[38;5;132;01m}\u001b[39;00m\u001b[38;5;124m]\u001b[39m\u001b[38;5;124m'\u001b[39m\u001b[38;5;250m \u001b[39m\u001b[38;5;28;01mfor\u001b[39;00m\u001b[38;5;250m \u001b[39mcol\u001b[38;5;250m \u001b[39m\u001b[38;5;129;01min\u001b[39;00m\u001b[38;5;250m \u001b[39mcolumns])\u001b[38;5;132;01m}\u001b[39;00m\u001b[38;5;124m) VALUES (\u001b[39m\u001b[38;5;132;01m{\u001b[39;00m\u001b[38;5;124m'\u001b[39m\u001b[38;5;124m, \u001b[39m\u001b[38;5;124m'\u001b[39m\u001b[38;5;241m.\u001b[39mjoin([\u001b[38;5;124m'\u001b[39m\u001b[38;5;124m?\u001b[39m\u001b[38;5;124m'\u001b[39m\u001b[38;5;250m \u001b[39m\u001b[38;5;28;01mfor\u001b[39;00m\u001b[38;5;250m \u001b[39m_\u001b[38;5;250m \u001b[39m\u001b[38;5;129;01min\u001b[39;00m\u001b[38;5;250m \u001b[39mcolumns])\u001b[38;5;132;01m}\u001b[39;00m\u001b[38;5;124m)\u001b[39m\u001b[38;5;124m\"\u001b[39m\n\u001b[1;32m---> 22\u001b[0m     cursor\u001b[38;5;241m.\u001b[39mexecute(insert_query, \u001b[38;5;28mtuple\u001b[39m(row))\n\u001b[0;32m     24\u001b[0m \u001b[38;5;66;03m# Confirmando a transação\u001b[39;00m\n\u001b[0;32m     25\u001b[0m conn\u001b[38;5;241m.\u001b[39mcommit()\n",
      "\u001b[1;31mOperationalError\u001b[0m: table grade has no column named Hora Agendada"
     ]
    }
   ],
   "source": [
    "import pandas as pd\n",
    "import sqlite3\n",
    "\n",
    "# Caminho do arquivo e nome do arquivo\n",
    "file_path = r'\\\\Brribflsv01\\deptos$\\Mercado_Externo\\GesPatio\\Agendamentos Diário.xlsx'\n",
    "\n",
    "# Lendo o arquivo Excel usando openpyxl\n",
    "df = pd.read_excel(file_path, engine='openpyxl')\n",
    "\n",
    "# Conectando ao banco de dados SQLite (ou criando um novo banco de dados)\n",
    "conn = sqlite3.connect('gradeagenda.db')\n",
    "cursor = conn.cursor()\n",
    "\n",
    "# Criando a tabela 'grade' com os mesmos nomes de coluna do arquivo xlsx\n",
    "columns = df.columns\n",
    "create_table_query = f\"CREATE TABLE IF NOT EXISTS grade ({', '.join([f'[{col}] TEXT' for col in columns])})\"\n",
    "cursor.execute(create_table_query)\n",
    "\n",
    "# Inserindo cada linha do DataFrame na tabela 'grade'\n",
    "for index, row in df.iterrows():\n",
    "    insert_query = f\"INSERT INTO grade ({', '.join([f'[{col}]' for col in columns])}) VALUES ({', '.join(['?' for _ in columns])})\"\n",
    "    cursor.execute(insert_query, tuple(row))\n",
    "\n",
    "# Confirmando a transação\n",
    "conn.commit()\n",
    "\n",
    "# Fechando a conexão\n",
    "cursor.close()\n",
    "conn.close()\n",
    "\n",
    "\n",
    "print(\"Dados inseridos com sucesso na tabela 'grade' no banco de dados SQLite.\")"
   ]
  },
  {
   "cell_type": "code",
   "execution_count": 2,
   "id": "af1d0f8f-07d3-4703-9be4-500ff0a6910d",
   "metadata": {},
   "outputs": [
    {
     "ename": "NameError",
     "evalue": "name 'app' is not defined",
     "output_type": "error",
     "traceback": [
      "\u001b[1;31m---------------------------------------------------------------------------\u001b[0m",
      "\u001b[1;31mNameError\u001b[0m                                 Traceback (most recent call last)",
      "Cell \u001b[1;32mIn[2], line 1\u001b[0m\n\u001b[1;32m----> 1\u001b[0m \u001b[38;5;129m@app\u001b[39m\u001b[38;5;241m.\u001b[39mroute(\u001b[38;5;124m'\u001b[39m\u001b[38;5;124m/arq_agenda/upload\u001b[39m\u001b[38;5;124m'\u001b[39m, methods\u001b[38;5;241m=\u001b[39m[\u001b[38;5;124m'\u001b[39m\u001b[38;5;124mGET\u001b[39m\u001b[38;5;124m'\u001b[39m, \u001b[38;5;124m'\u001b[39m\u001b[38;5;124mPOST\u001b[39m\u001b[38;5;124m'\u001b[39m])\n\u001b[0;32m      2\u001b[0m \u001b[38;5;129m@login_required\u001b[39m\n\u001b[0;32m      3\u001b[0m \u001b[38;5;28;01mdef\u001b[39;00m \u001b[38;5;21mupload_file\u001b[39m():\n\u001b[0;32m      4\u001b[0m     file \u001b[38;5;241m=\u001b[39m request\u001b[38;5;241m.\u001b[39mfiles[\u001b[38;5;124m'\u001b[39m\u001b[38;5;124mfile\u001b[39m\u001b[38;5;124m'\u001b[39m]\n\u001b[0;32m      5\u001b[0m     \u001b[38;5;28;01mif\u001b[39;00m file:\n",
      "\u001b[1;31mNameError\u001b[0m: name 'app' is not defined"
     ]
    }
   ],
   "source": [
    "@app.route('/arq_agenda/upload', methods=['GET', 'POST'])\n",
    "@login_required\n",
    "def upload_file():\n",
    "    file = request.files['file']\n",
    "    if file:\n",
    "        agenda = pd.read_excel(file, engine='openpyxl')\n",
    "        conn = sqlite3.connect('agendamento.db')\n",
    "        cursor = conn.cursor()"
   ]
  },
  {
   "cell_type": "code",
   "execution_count": null,
   "id": "a1866a07-1b84-434e-803e-cfe51d6c234f",
   "metadata": {},
   "outputs": [],
   "source": []
  }
 ],
 "metadata": {
  "kernelspec": {
   "display_name": "Python 3 (ipykernel)",
   "language": "python",
   "name": "python3"
  },
  "language_info": {
   "codemirror_mode": {
    "name": "ipython",
    "version": 3
   },
   "file_extension": ".py",
   "mimetype": "text/x-python",
   "name": "python",
   "nbconvert_exporter": "python",
   "pygments_lexer": "ipython3",
   "version": "3.12.4"
  }
 },
 "nbformat": 4,
 "nbformat_minor": 5
}
